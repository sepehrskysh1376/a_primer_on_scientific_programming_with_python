{
 "cells": [
  {
   "cell_type": "code",
   "execution_count": 4,
   "id": "2c453389-95b8-4f62-91da-297321b0e051",
   "metadata": {},
   "outputs": [
    {
     "name": "stdout",
     "output_type": "stream",
     "text": [
      "385\n"
     ]
    }
   ],
   "source": [
    "n = 10\n",
    "\n",
    "s = 0\n",
    "for i in range(1, n+1):\n",
    "    s += i**2\n",
    "\n",
    "print(s)"
   ]
  },
  {
   "cell_type": "code",
   "execution_count": 5,
   "id": "fd5872ed",
   "metadata": {},
   "outputs": [
    {
     "name": "stdout",
     "output_type": "stream",
     "text": [
      "2.499737005376623\n"
     ]
    }
   ],
   "source": [
    "n = 10\n",
    "x = 20\n",
    "\n",
    "s = 0\n",
    "for i in range(1, n+1):\n",
    "    s += (1.0/i)*(x/(1.0+x))**i\n",
    "\n",
    "print(s)"
   ]
  },
  {
   "cell_type": "code",
   "execution_count": 6,
   "id": "d70110f6",
   "metadata": {},
   "outputs": [],
   "source": [
    "def L(x, n):\n",
    "    s = 0\n",
    "    for i in range(1, n+1):\n",
    "        s += (1.0/i)*(x/1.0+x)**i\n",
    "    return s"
   ]
  },
  {
   "cell_type": "code",
   "execution_count": 16,
   "id": "725932bb",
   "metadata": {},
   "outputs": [
    {
     "name": "stdout",
     "output_type": "stream",
     "text": [
      "-1100.8219461696522\n"
     ]
    }
   ],
   "source": [
    "import math\n",
    "x = 23\n",
    "l = math.log(x+1)\n",
    "ll = L(x, 2)\n",
    "print(l - ll)"
   ]
  },
  {
   "cell_type": "code",
   "execution_count": 22,
   "id": "cbf4a817",
   "metadata": {},
   "outputs": [],
   "source": [
    "def L2(x, n):\n",
    "    s = 0\n",
    "    for i in range(1, n+1):\n",
    "        s += (1.0/i)*(x/(1.0+x))**i\n",
    "    value_of_sum = s\n",
    "    first_neglected_term = (1.0/(n+1))*(x/(1.0+x))**(n+1)\n",
    "    from math import log\n",
    "    exact_error = log(1+x) - value_of_sum\n",
    "    return value_of_sum, first_neglected_term, exact_error\n",
    "\n",
    "value, approximate_error, exact_error = L2(x, 100)"
   ]
  },
  {
   "cell_type": "code",
   "execution_count": 23,
   "id": "75ae2471",
   "metadata": {},
   "outputs": [],
   "source": [
    "def table(x):\n",
    "    print(f\"\\nx=%g, ln(1+x)=%g\" % (x, math.log(1+x)))\n",
    "    for n in [1, 2, 10, 100, 500]:\n",
    "        value, next, error = L2(x, n)\n",
    "        print(f\"n=%-4d %-10g (next term: %8.2e  error: %8.2e)\" % (n, value, next, error))"
   ]
  },
  {
   "cell_type": "code",
   "execution_count": 24,
   "id": "fd8e2f8b",
   "metadata": {},
   "outputs": [
    {
     "name": "stdout",
     "output_type": "stream",
     "text": [
      "\n",
      "x=10, ln(1+x)=2.3979\n",
      "n=1    0.909091   (next term: 4.13e-01  error: 1.49e+00)\n",
      "n=2    1.32231    (next term: 2.50e-01  error: 1.08e+00)\n",
      "n=10   2.17907    (next term: 3.19e-02  error: 2.19e-01)\n",
      "n=100  2.39789    (next term: 6.53e-07  error: 6.59e-06)\n",
      "n=500  2.3979     (next term: 3.65e-24  error: 6.22e-15)\n"
     ]
    }
   ],
   "source": [
    "table(10)"
   ]
  },
  {
   "cell_type": "code",
   "execution_count": 2,
   "id": "b92f75db",
   "metadata": {},
   "outputs": [],
   "source": [
    "from math import pi, exp, sin\n",
    "\n",
    "def f(t, A=1, a=1, omega=2*pi):\n",
    "    return A * exp(-a*t) * sin(omega*t)"
   ]
  },
  {
   "cell_type": "code",
   "execution_count": null,
   "id": "4afb5ebe",
   "metadata": {},
   "outputs": [
    {
     "data": {
      "text/plain": [
       "0.778659217806053"
      ]
     },
     "execution_count": 5,
     "metadata": {},
     "output_type": "execute_result"
    }
   ],
   "source": [
    "v1 = f(0.2)\n",
    "v1"
   ]
  },
  {
   "cell_type": "code",
   "execution_count": null,
   "id": "0f8e5574",
   "metadata": {},
   "outputs": [
    {
     "name": "stdout",
     "output_type": "stream",
     "text": [
      "0.16265669081533915\n",
      "3.167131721310066e-20\n"
     ]
    }
   ],
   "source": [
    "v2 = f(0.2, omega=1)\n",
    "print(v2)\n",
    "v3 = f(1, A=5, omega=pi, a=pi**2)\n",
    "print(v3)\n"
   ]
  },
  {
   "cell_type": "code",
   "execution_count": 14,
   "id": "47fd3740",
   "metadata": {},
   "outputs": [],
   "source": [
    "def L3(x, epsilon=1.0e-6):\n",
    "    x = float(x)\n",
    "    i = 1\n",
    "    term = (1.0/i)*(x/(1+x))**i\n",
    "    s = term\n",
    "    while abs(term > epsilon):\n",
    "        i += 1\n",
    "        term = (1.0/i)*(x/(1+x))**i\n",
    "        s += term\n",
    "    return s, i"
   ]
  },
  {
   "cell_type": "code",
   "execution_count": 29,
   "id": "23e6f95d",
   "metadata": {},
   "outputs": [],
   "source": [
    "def table2(x):\n",
    "    from math import log\n",
    "    for k in range(4, 14, 2):\n",
    "        epsilon = 10**(-k)\n",
    "        approx, n = L3(x, epsilon=epsilon)\n",
    "        exact = log(1+x)\n",
    "        exact_error = exact - approx\n",
    "        print(f\"epsilon: %1.e, exact error: %.2e, n=%d\" % (epsilon, exact_error, n))"
   ]
  },
  {
   "cell_type": "code",
   "execution_count": 30,
   "id": "f6e612b6",
   "metadata": {},
   "outputs": [
    {
     "name": "stdout",
     "output_type": "stream",
     "text": [
      "epsilon: 1e-04, exact error: 8.18e-04, n=55\n",
      "epsilon: 1e-06, exact error: 9.02e-06, n=97\n",
      "epsilon: 1e-08, exact error: 8.70e-08, n=142\n",
      "epsilon: 1e-10, exact error: 9.20e-10, n=187\n",
      "epsilon: 1e-12, exact error: 9.31e-12, n=233\n"
     ]
    }
   ],
   "source": [
    "table2(10)"
   ]
  },
  {
   "cell_type": "code",
   "execution_count": 34,
   "id": "2be46240",
   "metadata": {},
   "outputs": [],
   "source": [
    "def C2F(C):\n",
    "    \"\"\"Convert Celsius degrees (C) to Fahrenheit\"\"\"\n",
    "    return (9.0/5)*C + 32\n",
    "\n",
    "def line(x0, y0, x1, y1):\n",
    "    \"\"\"\n",
    "    Compute the coefficients a and b in the mathematical\n",
    "     expression for a straight line y = a*x + b that goes\n",
    "     throught two points (x0, y0) and (x1, y1). \n",
    "\n",
    "    x0, y0: a point on the line (floats)\n",
    "    x1, y1: another point on the line (floats)\n",
    "    return: coefficients a, b (floats) for the line (y = a*x + b).\n",
    "    \"\"\"\n",
    "    a = (y1 - y0)/float(x1 - x0)\n",
    "    b = y0 - a*x0\n",
    "    return a, b"
   ]
  },
  {
   "cell_type": "code",
   "execution_count": null,
   "id": "7a675574",
   "metadata": {},
   "outputs": [
    {
     "name": "stdout",
     "output_type": "stream",
     "text": [
      "\n",
      "Compute the coefficients a and b in the mathematical\n",
      " expression for a straight line y = a*x + b that goes\n",
      " throught two points (x0, y0) and (x1, y1). \n",
      "\n",
      "x0, y0: a point on the line (floats)\n",
      "x1, y1: another point on the line (floats)\n",
      "return: coefficients a, b (floats) for the line (y = a*x + b).\n",
      "\n"
     ]
    }
   ],
   "source": [
    "print(line.__doc__)"
   ]
  },
  {
   "cell_type": "code",
   "execution_count": 139,
   "id": "4f096bea",
   "metadata": {},
   "outputs": [
    {
     "name": "stdout",
     "output_type": "stream",
     "text": [
      "1e-12\n",
      "9.999999999999999094962236518E-13\n"
     ]
    }
   ],
   "source": [
    "def diff2nd(f, x, h=1E-6):\n",
    "    return (f(x-h) - 2*f(x) + f(x+h))/float(h*h)\n",
    "\n",
    "def high_acc_diff2nd(f, x, h=1E-6):\n",
    "    from decimal import Decimal\n",
    "    return Decimal(f(x-h) - 2*f(x) + f(x+h)) / (Decimal(h)*Decimal(h))\n",
    "\n",
    "h = 1E-6\n",
    "print(h * h)\n",
    "hh = Decimal(1E-6)\n",
    "print(hh * hh)\n"
   ]
  },
  {
   "cell_type": "code",
   "execution_count": 140,
   "id": "bdd6fc71",
   "metadata": {},
   "outputs": [],
   "source": [
    "def g(t):\n",
    "    return (t)**(-6)"
   ]
  },
  {
   "cell_type": "code",
   "execution_count": 141,
   "id": "6df6e1ff",
   "metadata": {},
   "outputs": [
    {
     "name": "stdout",
     "output_type": "stream",
     "text": [
      "g(1.200000) = 9.767798\n"
     ]
    }
   ],
   "source": [
    "t = 1.2\n",
    "d2g = diff2nd(g, t)\n",
    "print(\"g(%f) = %f\" %(t, d2g))"
   ]
  },
  {
   "cell_type": "code",
   "execution_count": 142,
   "id": "6d3e21b1",
   "metadata": {},
   "outputs": [],
   "source": [
    "def g2nd(t):\n",
    "    return -42*t**(-8)\n",
    "\n",
    "\n",
    "def table3(f, f2, x):\n",
    "    for i in range(1, 15):\n",
    "        h = 10**(-i)\n",
    "        d2g = diff2nd(f, x, h=h)\n",
    "        error = abs(d2g - f2(x))\n",
    "        print(\"g(%.1f) (error: %0.3e with h=%.0e) = %f \" % (x, error,h, d2g))\n",
    "\n",
    "def table4(f, f2, x):\n",
    "    from decimal import Decimal\n",
    "    x = Decimal(x)\n",
    "    for i in range(1, 15):\n",
    "        h = Decimal(10**(-i))\n",
    "        d2g = high_acc_diff2nd(f, x, h=h)\n",
    "        error = abs(d2g - f2(x))\n",
    "        print(\"g(%.1f) (error: %0.3e with h=%.0e) = %f \" % (x, error,h, d2g))"
   ]
  },
  {
   "cell_type": "code",
   "execution_count": 143,
   "id": "a1dd8467",
   "metadata": {},
   "outputs": [
    {
     "name": "stdout",
     "output_type": "stream",
     "text": [
      "g(1.0) (error: 8.662e+01 with h=1e-01) = 44.615035 \n",
      "g(1.0) (error: 8.403e+01 with h=1e-02) = 42.025209 \n",
      "g(1.0) (error: 8.400e+01 with h=1e-03) = 42.000252 \n",
      "g(1.0) (error: 8.400e+01 with h=1e-04) = 42.000003 \n",
      "g(1.0) (error: 8.400e+01 with h=1e-05) = 41.999992 \n",
      "g(1.0) (error: 8.400e+01 with h=1e-06) = 42.000736 \n",
      "g(1.0) (error: 8.394e+01 with h=1e-07) = 41.944226 \n",
      "g(1.0) (error: 8.974e+01 with h=1e-08) = 47.739590 \n",
      "g(1.0) (error: 6.241e+02 with h=1e-09) = -666.133815 \n",
      "g(1.0) (error: 4.200e+01 with h=1e-10) = 0.000000 \n",
      "g(1.0) (error: 4.200e+01 with h=1e-11) = 0.000000 \n",
      "g(1.0) (error: 6.661e+08 with h=1e-12) = -666133814.775094 \n",
      "g(1.0) (error: 6.661e+10 with h=1e-13) = 66613381477.509392 \n",
      "g(1.0) (error: 4.200e+01 with h=1e-14) = 0.000000 \n"
     ]
    }
   ],
   "source": [
    "table3(g, g2nd, 1)"
   ]
  },
  {
   "cell_type": "code",
   "execution_count": 144,
   "id": "99fca5d2",
   "metadata": {},
   "outputs": [
    {
     "name": "stdout",
     "output_type": "stream",
     "text": [
      "g(1.0) (error: 8.662e+01 with h=1e-01) = 44.615035 \n",
      "g(1.0) (error: 8.403e+01 with h=1e-02) = 42.025209 \n",
      "g(1.0) (error: 8.400e+01 with h=1e-03) = 42.000252 \n",
      "g(1.0) (error: 8.400e+01 with h=1e-04) = 42.000003 \n",
      "g(1.0) (error: 8.400e+01 with h=1e-05) = 42.000000 \n",
      "g(1.0) (error: 8.400e+01 with h=1e-06) = 42.000000 \n",
      "g(1.0) (error: 8.400e+01 with h=1e-07) = 42.000000 \n",
      "g(1.0) (error: 8.400e+01 with h=1e-08) = 42.000000 \n",
      "g(1.0) (error: 8.400e+01 with h=1e-09) = 42.000000 \n",
      "g(1.0) (error: 8.400e+01 with h=1e-10) = 42.000000 \n",
      "g(1.0) (error: 8.400e+01 with h=1e-11) = 42.000020 \n",
      "g(1.0) (error: 8.400e+01 with h=1e-12) = 42.000000 \n",
      "g(1.0) (error: 8.400e+01 with h=1e-13) = 42.000000 \n",
      "g(1.0) (error: 8.300e+01 with h=1e-14) = 41.000000 \n"
     ]
    }
   ],
   "source": [
    "table4(g, g2nd, 1)"
   ]
  },
  {
   "cell_type": "code",
   "execution_count": 122,
   "id": "15dc01e1",
   "metadata": {},
   "outputs": [
    {
     "name": "stdout",
     "output_type": "stream",
     "text": [
      "0.10000000000000000555 + \n",
      "0.20000000000000001110 = \n",
      "0.30000000000000004\n",
      "0.10000000000000000555 + \n",
      "0.20000000000000001110 = \n",
      "0.3000000000000000166533453694\n"
     ]
    }
   ],
   "source": [
    "from decimal import Decimal\n",
    "fa = float(0.1)\n",
    "fb = float(0.2)\n",
    "da = Decimal(0.1)\n",
    "db = Decimal(0.2)\n",
    "print(f\"%.20f + \\n%.20f = \\n{fa + fb}\" % (fa, fb))\n",
    "print(f\"%.20f + \\n%.20f = \\n{da + db}\" % (da, db))"
   ]
  },
  {
   "cell_type": "code",
   "execution_count": 147,
   "id": "e2c4a33c",
   "metadata": {},
   "outputs": [],
   "source": [
    "f = lambda x: x**2 + 4\n",
    "\n",
    "def ff(x):\n",
    "    return x**2 + 4"
   ]
  },
  {
   "cell_type": "code",
   "execution_count": 148,
   "id": "951038b1",
   "metadata": {},
   "outputs": [
    {
     "name": "stdout",
     "output_type": "stream",
     "text": [
      "533\n",
      "533\n"
     ]
    }
   ],
   "source": [
    "print(f(23))\n",
    "print(ff(23))"
   ]
  },
  {
   "cell_type": "code",
   "execution_count": 151,
   "id": "22dd237f",
   "metadata": {},
   "outputs": [
    {
     "name": "stdout",
     "output_type": "stream",
     "text": [
      "5\n",
      "4\n"
     ]
    }
   ],
   "source": [
    "fun = lambda x, y=2: x + y\n",
    "print(fun(2, 3))\n",
    "print(fun(2))"
   ]
  },
  {
   "cell_type": "code",
   "execution_count": null,
   "id": "97992e7b",
   "metadata": {},
   "outputs": [],
   "source": []
  }
 ],
 "metadata": {
  "kernelspec": {
   "display_name": "base",
   "language": "python",
   "name": "python3"
  },
  "language_info": {
   "codemirror_mode": {
    "name": "ipython",
    "version": 3
   },
   "file_extension": ".py",
   "mimetype": "text/x-python",
   "name": "python",
   "nbconvert_exporter": "python",
   "pygments_lexer": "ipython3",
   "version": "3.13.5"
  }
 },
 "nbformat": 4,
 "nbformat_minor": 5
}
