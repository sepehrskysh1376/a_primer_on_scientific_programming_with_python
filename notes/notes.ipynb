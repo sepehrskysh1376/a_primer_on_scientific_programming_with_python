{
 "cells": [
  {
   "cell_type": "markdown",
   "id": "b19200e5",
   "metadata": {},
   "source": [
    "## Chapter3\n",
    "\n",
    "### Exercise:\n",
    "\n",
    "#### 0. The Finite Difference formula (*)\n",
    "- This is a method to calculate Second derivitive.\n",
    "- $f^{''}(x) = \\frac{f(x+h) - 2f(x) + f(x-h)}{h^2}$\n"
   ]
  },
  {
   "cell_type": "markdown",
   "id": "1c67941c",
   "metadata": {},
   "source": [
    "#### 1.Trapezoidal Integration rule (*)\n",
    "- using a function $f(x)$ and drive its definite integration between $a$ and $b$ by turning the curve into series of trapezoids with the left side on the curve and right side on the curve:\n",
    "    - $\\int_{a}^{b}{f(x)dx}$\n",
    "    - $\\approx \\sum_{i=1}^{n-1} \\frac{h}{2}(f(x_i) + f(x_{i+1}))$\n",
    "    - For not calcualting the terms twice:\n",
    "        - $\\approx \\frac{h}{2}(f(a)+f(b)) + h\\sum_{i=1}^{n-1}{f(x_i)}$ \n",
    "    - With $h = \\frac{b - a}{n}$ which is the width of the trapezoids"
   ]
  },
  {
   "cell_type": "code",
   "execution_count": 1,
   "id": "ae49b665",
   "metadata": {},
   "outputs": [],
   "source": [
    "def trapezint(f, a, b, n=10):\n",
    "    \"\"\"\n",
    "    Trapezoidal rule for defined integration (With n lines)\n",
    "    f: Integrating function\n",
    "    a: The starting point\n",
    "    b: The last point\n",
    "    n: The number of trapezoid sides (integer)\n",
    "    \"\"\"\n",
    "    h = (b - a)/float(n)\n",
    "    points = [a]\n",
    "    sum = 0\n",
    "    for i in range(0, n):\n",
    "        points.append(points[i]+h)\n",
    "        sum += (h / 2.)*(f(points[i])+f(points[i+1]))\n",
    "    return sum\n",
    "\n",
    "def eff_trapezint(f, a, b, n=10):\n",
    "    \"\"\"\n",
    "    More efficient Trapezoidal algorithm for defined integration (With n lines)\n",
    "    f: Integrating function\n",
    "    a: The starting point\n",
    "    b: The last point\n",
    "    n: The number of trapezoid sides (integer)\n",
    "    \"\"\"\n",
    "    h = (b - a)/float(n)\n",
    "    points = [a]\n",
    "    fac = (h/2.)*(f(a) + f(b))\n",
    "    sum = 0\n",
    "    for i in range(0, n):\n",
    "        sum += f(points[i])\n",
    "        points.append(points[i]+h)\n",
    "    return fac + h*sum\n"
   ]
  },
  {
   "cell_type": "markdown",
   "id": "272cc93a",
   "metadata": {},
   "source": [
    "#### 2. Midpoint Integration rule (*)\n",
    "- using a function $f(x)$ and drive its definite integration between $a$ and $b$ by turning the curves into a series of rectangles with heigth of the middle of the rectangle on the curve:\n",
    "    - $\\int_{a}^{b}{f(x)dx}$\n",
    "    - $\\approx h\\sum_{i=1}^{n-1} f(a + ih + \\frac{h}{2})$\n",
    "    - With $h = \\frac{b - a}{n}$ which is the width of the rectangles\n"
   ]
  },
  {
   "cell_type": "code",
   "execution_count": 2,
   "id": "7306337e",
   "metadata": {},
   "outputs": [],
   "source": [
    "def midpoint(f, a, b, n=10):\n",
    "    \"\"\"\n",
    "    Computation of Definite Integrals with Midpoint rule\n",
    "    f: pre-integral function\n",
    "    a: starting point\n",
    "    b: end point\n",
    "    n: number of rectangles\n",
    "    \"\"\"\n",
    "    h = (b - a)/n\n",
    "    #heights = [h/2.]\n",
    "    sum = 0\n",
    "    for i in range(0, n):\n",
    "        sum += f(a + i*h + (h * (1./2.)))\n",
    "    return h*sum"
   ]
  },
  {
   "cell_type": "code",
   "execution_count": null,
   "id": "696bce4b",
   "metadata": {},
   "outputs": [],
   "source": []
  }
 ],
 "metadata": {
  "kernelspec": {
   "display_name": "base",
   "language": "python",
   "name": "python3"
  },
  "language_info": {
   "codemirror_mode": {
    "name": "ipython",
    "version": 3
   },
   "file_extension": ".py",
   "mimetype": "text/x-python",
   "name": "python",
   "nbconvert_exporter": "python",
   "pygments_lexer": "ipython3",
   "version": "3.13.5"
  }
 },
 "nbformat": 4,
 "nbformat_minor": 5
}
